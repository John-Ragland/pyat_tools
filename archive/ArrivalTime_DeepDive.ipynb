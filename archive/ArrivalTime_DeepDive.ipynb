{
 "cells": [
  {
   "cell_type": "markdown",
   "id": "1bedf819-c426-4124-90ae-5d7a834f0465",
   "metadata": {},
   "source": [
    "# Deep dive into arrival times"
   ]
  },
  {
   "cell_type": "code",
   "execution_count": 24,
   "id": "d5fd746b-ab20-4fa8-bce5-6b1ac9f874ac",
   "metadata": {},
   "outputs": [
    {
     "name": "stdout",
     "output_type": "stream",
     "text": [
      "The autoreload extension is already loaded. To reload it, use:\n",
      "  %reload_ext autoreload\n"
     ]
    }
   ],
   "source": [
    "import xarray as xr\n",
    "import pandas as pd\n",
    "import pyat_tools\n",
    "from matplotlib import pyplot as plt\n",
    "from Noise_Interferometry.Modules import inversion\n",
    "import numpy as np\n",
    "from scipy import signal\n",
    "import hvplot.xarray\n",
    "import scipy\n",
    "import os\n",
    "\n",
    "%load_ext autoreload\n",
    "%autoreload 2"
   ]
  },
  {
   "cell_type": "code",
   "execution_count": 119,
   "id": "25de6853-ec0f-4ee1-9c8c-a61e561cc0f9",
   "metadata": {},
   "outputs": [],
   "source": [
    "fn = '/Volumes/Ocean_Acoustics/CTD Data/Axial_Base_201hr_avg_SSP.nc'\n",
    "ssps = xr.load_dataarray(fn)\n",
    "\n",
    "ssps_single_year = ssps[::200,:].loc[pd.Timestamp('2016-01-01'):pd.Timestamp('2017-01-01'),11:1527]\n",
    "\n",
    "ssp_arlpy = pyat_tools.convert_SSP_arlpy(ssps_single_year.mean('time'), 0)"
   ]
  },
  {
   "cell_type": "code",
   "execution_count": 111,
   "id": "d6b42bf1-c744-4d62-a006-c08e51f5c7bf",
   "metadata": {},
   "outputs": [],
   "source": [
    "c0 = ssps_single_year.mean()\n",
    "\n",
    "ssp = np.ones(len(ssp_arlpy))*c0.values\n",
    "ssp_arlpy_const = ssp_arlpy\n",
    "ssp_arlpy_const[:,1] = ssp"
   ]
  },
  {
   "cell_type": "code",
   "execution_count": 127,
   "id": "09d60be1-4204-47fc-810f-01a314ad3a32",
   "metadata": {},
   "outputs": [
    {
     "name": "stdout",
     "output_type": "stream",
     "text": [
      "removed .flp\n",
      "N:\t4000\n",
      "To:\t20 [s]\n",
      "Δf\t0.025\n"
     ]
    }
   ],
   "source": [
    "# Write Environment File\n",
    "fn = 'caldera'\n",
    "pyat_tools.build_env_file(ssp_arlpy,'env_files/caldera_top_mediumsandy.txt','env_files/caldera_bottom_mediumsandy.txt', f'{fn}.env')\n",
    "\n",
    "# Write field flp file\n",
    "s_depths=[1527] #meters\n",
    "ranges =  [3.186] #km\n",
    "r_depths = [1518] # meters\n",
    "pyat_tools.write_flp_file(s_depths, ranges, r_depths, fn)\n",
    "\n",
    "# Build Frequency vector to accurate sample DTFT (so that x(t) can be reconstructed)\n",
    "Fs = 200\n",
    "To = 20\n",
    "\n",
    "t, freq_half, freq_full = pyat_tools.get_freq_time_vectors(Fs, To)"
   ]
  },
  {
   "cell_type": "code",
   "execution_count": 113,
   "id": "3677da7d-d442-4e7f-9cbb-7574fc151d0a",
   "metadata": {},
   "outputs": [
    {
     "data": {
      "text/plain": [
       "0"
      ]
     },
     "execution_count": 113,
     "metadata": {},
     "output_type": "execute_result"
    }
   ],
   "source": [
    "# Check that simulation works\n",
    "os.system(f'kraken.exe {fn}')"
   ]
  },
  {
   "cell_type": "code",
   "execution_count": 128,
   "id": "05a00403-5ac6-432b-a3a1-58a49b2b5323",
   "metadata": {},
   "outputs": [
    {
     "name": "stderr",
     "output_type": "stream",
     "text": [
      "100%|██████████| 2001/2001 [01:12<00:00, 27.72it/s]\n"
     ]
    }
   ],
   "source": [
    "# Simulate with Kraken\n",
    "pressures = pyat_tools.simulate_FDGF('caldera', freq_half, [1, 90], krakenc=False, verbose=True)\n",
    "\n",
    "pt = np.real(scipy.fft.ifft(pressures))\n",
    "pt_c = np.abs(signal.hilbert(pt))"
   ]
  },
  {
   "cell_type": "code",
   "execution_count": 129,
   "id": "63f182ee-0995-4249-b1f4-2042bf3d3bda",
   "metadata": {},
   "outputs": [],
   "source": [
    "NCCF_sim = pyat_tools.create_NCCF(pt_c)\n",
    "\n",
    "dA = -1*inversion.calc_prop_time(NCCF_sim, 'dA', tight=False).values\n",
    "s1b0 = inversion.calc_prop_time(NCCF_sim, 's1b0B', tight=False).values\n",
    "s2b1 = inversion.calc_prop_time(NCCF_sim, 's2b1B', tight=False).values\n",
    "s3b2 = inversion.calc_prop_time(NCCF_sim, 's3b2B', tight=False).values\n"
   ]
  },
  {
   "cell_type": "code",
   "execution_count": 130,
   "id": "6ed29fd0-85aa-45f5-b69c-5eaa55a6ce1d",
   "metadata": {},
   "outputs": [
    {
     "name": "stdout",
     "output_type": "stream",
     "text": [
      "[2.1450038] [2.98427623] [4.6658312] [6.57467697]\n"
     ]
    }
   ],
   "source": [
    "print(dA, s1b0, s2b1, s3b2)"
   ]
  },
  {
   "cell_type": "code",
   "execution_count": 131,
   "id": "9fbe2bd7-932a-4f7b-aa2d-ed02e2034f55",
   "metadata": {},
   "outputs": [
    {
     "data": {
      "text/plain": [
       "[<matplotlib.lines.Line2D at 0x7fa1288d3cd0>]"
      ]
     },
     "execution_count": 131,
     "metadata": {},
     "output_type": "execute_result"
    },
    {
     "data": {
      "image/png": "[encoded data removed]",
      "text/plain": [
       "<Figure size 432x288 with 1 Axes>"
      ]
     },
     "metadata": {
      "needs_background": "light"
     },
     "output_type": "display_data"
    }
   ],
   "source": [
    "plt.plot(ssp_arlpy[:,1])"
   ]
  },
  {
   "cell_type": "code",
   "execution_count": null,
   "id": "6ce1d014-db49-4d30-a0f7-61d85c4da879",
   "metadata": {},
   "outputs": [],
   "source": []
  },
  {
   "cell_type": "code",
   "execution_count": null,
   "id": "45730d8f-c877-44f6-bac5-d57882cae114",
   "metadata": {},
   "outputs": [],
   "source": []
  },
  {
   "cell_type": "code",
   "execution_count": null,
   "id": "97c5ebc7-8fbb-4665-9534-c09610125c01",
   "metadata": {},
   "outputs": [],
   "source": []
  },
  {
   "cell_type": "code",
   "execution_count": 7,
   "id": "a7644878-8fdc-480f-941d-a946541c4f42",
   "metadata": {},
   "outputs": [],
   "source": [
    "import xarray as xr\n",
    "from Noise_Interferometry.Modules import inversion\n",
    "from scipy import signal\n",
    "import numpy as np"
   ]
  },
  {
   "cell_type": "code",
   "execution_count": 3,
   "id": "815e0d32-0f80-49c3-ab4f-e34275d503f0",
   "metadata": {},
   "outputs": [],
   "source": [
    "fn = '/Volumes/Ocean_Acoustics/NCCFs/MJ03F-MJ03E/6year_NCCF_1.nc'\n",
    "\n",
    "NCCFs = xr.load_dataarray(fn)"
   ]
  },
  {
   "cell_type": "code",
   "execution_count": 4,
   "id": "757dabae-ec59-409f-aaf5-506fd141bc89",
   "metadata": {},
   "outputs": [],
   "source": [
    "NCCF = NCCFs.mean('dates')"
   ]
  },
  {
   "cell_type": "code",
   "execution_count": 29,
   "id": "e19b4dd3-e0f0-4e86-bf31-24960e8d859c",
   "metadata": {},
   "outputs": [],
   "source": [
    "NCCFc = np.expand_dims(np.abs(signal.hilbert(NCCF)),0)\n",
    "\n",
    "NCCFcx = xr.DataArray(NCCFc, dims=['dates','delay'], coords={'delay':NCCF.delay})"
   ]
  },
  {
   "cell_type": "code",
   "execution_count": 30,
   "id": "ac266bdc-81c5-4007-b2b8-a6d1a072ccbe",
   "metadata": {},
   "outputs": [
    {
     "data": {
      "text/plain": [
       "(1, 11999)"
      ]
     },
     "execution_count": 30,
     "metadata": {},
     "output_type": "execute_result"
    }
   ],
   "source": [
    "NCCFcx.shape"
   ]
  },
  {
   "cell_type": "code",
   "execution_count": 31,
   "id": "4e0b12c7-995a-4410-8eed-4a4faf0af861",
   "metadata": {},
   "outputs": [],
   "source": [
    "dA = inversion.calc_prop_time(NCCFcx, 'dA')"
   ]
  },
  {
   "cell_type": "code",
   "execution_count": 32,
   "id": "7d26af1e-90bc-4c99-9b84-53ffeef439ff",
   "metadata": {},
   "outputs": [
    {
     "data": {
      "text/html": [
       "<div><svg style=\"position: absolute; width: 0; height: 0; overflow: hidden\">\n",
       "<defs>\n",
       "<symbol id=\"icon-database\" viewBox=\"0 0 32 32\">\n",
       "<path d=\"M16 0c-8.837 0-16 2.239-16 5v4c0 2.761 7.163 5 16 5s16-2.239 16-5v-4c0-2.761-7.163-5-16-5z\"></path>\n",
       "<path d=\"M16 17c-8.837 0-16-2.239-16-5v6c0 2.761 7.163 5 16 5s16-2.239 16-5v-6c0 2.761-7.163 5-16 5z\"></path>\n",
       "<path d=\"M16 26c-8.837 0-16-2.239-16-5v6c0 2.761 7.163 5 16 5s16-2.239 16-5v-6c0 2.761-7.163 5-16 5z\"></path>\n",
       "</symbol>\n",
       "<symbol id=\"icon-file-text2\" viewBox=\"0 0 32 32\">\n",
       "<path d=\"M28.681 7.159c-0.694-0.947-1.662-2.053-2.724-3.116s-2.169-2.030-3.116-2.724c-1.612-1.182-2.393-1.319-2.841-1.319h-15.5c-1.378 0-2.5 1.121-2.5 2.5v27c0 1.378 1.122 2.5 2.5 2.5h23c1.378 0 2.5-1.122 2.5-2.5v-19.5c0-0.448-0.137-1.23-1.319-2.841zM24.543 5.457c0.959 0.959 1.712 1.825 2.268 2.543h-4.811v-4.811c0.718 0.556 1.584 1.309 2.543 2.268zM28 29.5c0 0.271-0.229 0.5-0.5 0.5h-23c-0.271 0-0.5-0.229-0.5-0.5v-27c0-0.271 0.229-0.5 0.5-0.5 0 0 15.499-0 15.5 0v7c0 0.552 0.448 1 1 1h7v19.5z\"></path>\n",
       "<path d=\"M23 26h-14c-0.552 0-1-0.448-1-1s0.448-1 1-1h14c0.552 0 1 0.448 1 1s-0.448 1-1 1z\"></path>\n",
       "<path d=\"M23 22h-14c-0.552 0-1-0.448-1-1s0.448-1 1-1h14c0.552 0 1 0.448 1 1s-0.448 1-1 1z\"></path>\n",
       "<path d=\"M23 18h-14c-0.552 0-1-0.448-1-1s0.448-1 1-1h14c0.552 0 1 0.448 1 1s-0.448 1-1 1z\"></path>\n",
       "</symbol>\n",
       "</defs>\n",
       "</svg>\n",
       "<style>/* CSS stylesheet for displaying xarray objects in jupyterlab.\n",
       " *\n",
       " */\n",
       "\n",
       ":root {\n",
       "  --xr-font-color0: var(--jp-content-font-color0, rgba(0, 0, 0, 1));\n",
       "  --xr-font-color2: var(--jp-content-font-color2, rgba(0, 0, 0, 0.54));\n",
       "  --xr-font-color3: var(--jp-content-font-color3, rgba(0, 0, 0, 0.38));\n",
       "  --xr-border-color: var(--jp-border-color2, #e0e0e0);\n",
       "  --xr-disabled-color: var(--jp-layout-color3, #bdbdbd);\n",
       "  --xr-background-color: var(--jp-layout-color0, white);\n",
       "  --xr-background-color-row-even: var(--jp-layout-color1, white);\n",
       "  --xr-background-color-row-odd: var(--jp-layout-color2, #eeeeee);\n",
       "}\n",
       "\n",
       "html[theme=dark],\n",
       "body.vscode-dark {\n",
       "  --xr-font-color0: rgba(255, 255, 255, 1);\n",
       "  --xr-font-color2: rgba(255, 255, 255, 0.54);\n",
       "  --xr-font-color3: rgba(255, 255, 255, 0.38);\n",
       "  --xr-border-color: #1F1F1F;\n",
       "  --xr-disabled-color: #515151;\n",
       "  --xr-background-color: #111111;\n",
       "  --xr-background-color-row-even: #111111;\n",
       "  --xr-background-color-row-odd: #313131;\n",
       "}\n",
       "\n",
       ".xr-wrap {\n",
       "  display: block;\n",
       "  min-width: 300px;\n",
       "  max-width: 700px;\n",
       "}\n",
       "\n",
       ".xr-text-repr-fallback {\n",
       "  /* fallback to plain text repr when CSS is not injected (untrusted notebook) */\n",
       "  display: none;\n",
       "}\n",
       "\n",
       ".xr-header {\n",
       "  padding-top: 6px;\n",
       "  padding-bottom: 6px;\n",
       "  margin-bottom: 4px;\n",
       "  border-bottom: solid 1px var(--xr-border-color);\n",
       "}\n",
       "\n",
       ".xr-header > div,\n",
       ".xr-header > ul {\n",
       "  display: inline;\n",
       "  margin-top: 0;\n",
       "  margin-bottom: 0;\n",
       "}\n",
       "\n",
       ".xr-obj-type,\n",
       ".xr-array-name {\n",
       "  margin-left: 2px;\n",
       "  margin-right: 10px;\n",
       "}\n",
       "\n",
       ".xr-obj-type {\n",
       "  color: var(--xr-font-color2);\n",
       "}\n",
       "\n",
       ".xr-sections {\n",
       "  padding-left: 0 !important;\n",
       "  display: grid;\n",
       "  grid-template-columns: 150px auto auto 1fr 20px 20px;\n",
       "}\n",
       "\n",
       ".xr-section-item {\n",
       "  display: contents;\n",
       "}\n",
       "\n",
       ".xr-section-item input {\n",
       "  display: none;\n",
       "}\n",
       "\n",
       ".xr-section-item input + label {\n",
       "  color: var(--xr-disabled-color);\n",
       "}\n",
       "\n",
       ".xr-section-item input:enabled + label {\n",
       "  cursor: pointer;\n",
       "  color: var(--xr-font-color2);\n",
       "}\n",
       "\n",
       ".xr-section-item input:enabled + label:hover {\n",
       "  color: var(--xr-font-color0);\n",
       "}\n",
       "\n",
       ".xr-section-summary {\n",
       "  grid-column: 1;\n",
       "  color: var(--xr-font-color2);\n",
       "  font-weight: 500;\n",
       "}\n",
       "\n",
       ".xr-section-summary > span {\n",
       "  display: inline-block;\n",
       "  padding-left: 0.5em;\n",
       "}\n",
       "\n",
       ".xr-section-summary-in:disabled + label {\n",
       "  color: var(--xr-font-color2);\n",
       "}\n",
       "\n",
       ".xr-section-summary-in + label:before {\n",
       "  display: inline-block;\n",
       "  content: '►';\n",
       "  font-size: 11px;\n",
       "  width: 15px;\n",
       "  text-align: center;\n",
       "}\n",
       "\n",
       ".xr-section-summary-in:disabled + label:before {\n",
       "  color: var(--xr-disabled-color);\n",
       "}\n",
       "\n",
       ".xr-section-summary-in:checked + label:before {\n",
       "  content: '▼';\n",
       "}\n",
       "\n",
       ".xr-section-summary-in:checked + label > span {\n",
       "  display: none;\n",
       "}\n",
       "\n",
       ".xr-section-summary,\n",
       ".xr-section-inline-details {\n",
       "  padding-top: 4px;\n",
       "  padding-bottom: 4px;\n",
       "}\n",
       "\n",
       ".xr-section-inline-details {\n",
       "  grid-column: 2 / -1;\n",
       "}\n",
       "\n",
       ".xr-section-details {\n",
       "  display: none;\n",
       "  grid-column: 1 / -1;\n",
       "  margin-bottom: 5px;\n",
       "}\n",
       "\n",
       ".xr-section-summary-in:checked ~ .xr-section-details {\n",
       "  display: contents;\n",
       "}\n",
       "\n",
       ".xr-array-wrap {\n",
       "  grid-column: 1 / -1;\n",
       "  display: grid;\n",
       "  grid-template-columns: 20px auto;\n",
       "}\n",
       "\n",
       ".xr-array-wrap > label {\n",
       "  grid-column: 1;\n",
       "  vertical-align: top;\n",
       "}\n",
       "\n",
       ".xr-preview {\n",
       "  color: var(--xr-font-color3);\n",
       "}\n",
       "\n",
       ".xr-array-preview,\n",
       ".xr-array-data {\n",
       "  padding: 0 5px !important;\n",
       "  grid-column: 2;\n",
       "}\n",
       "\n",
       ".xr-array-data,\n",
       ".xr-array-in:checked ~ .xr-array-preview {\n",
       "  display: none;\n",
       "}\n",
       "\n",
       ".xr-array-in:checked ~ .xr-array-data,\n",
       ".xr-array-preview {\n",
       "  display: inline-block;\n",
       "}\n",
       "\n",
       ".xr-dim-list {\n",
       "  display: inline-block !important;\n",
       "  list-style: none;\n",
       "  padding: 0 !important;\n",
       "  margin: 0;\n",
       "}\n",
       "\n",
       ".xr-dim-list li {\n",
       "  display: inline-block;\n",
       "  padding: 0;\n",
       "  margin: 0;\n",
       "}\n",
       "\n",
       ".xr-dim-list:before {\n",
       "  content: '(';\n",
       "}\n",
       "\n",
       ".xr-dim-list:after {\n",
       "  content: ')';\n",
       "}\n",
       "\n",
       ".xr-dim-list li:not(:last-child):after {\n",
       "  content: ',';\n",
       "  padding-right: 5px;\n",
       "}\n",
       "\n",
       ".xr-has-index {\n",
       "  font-weight: bold;\n",
       "}\n",
       "\n",
       ".xr-var-list,\n",
       ".xr-var-item {\n",
       "  display: contents;\n",
       "}\n",
       "\n",
       ".xr-var-item > div,\n",
       ".xr-var-item label,\n",
       ".xr-var-item > .xr-var-name span {\n",
       "  background-color: var(--xr-background-color-row-even);\n",
       "  margin-bottom: 0;\n",
       "}\n",
       "\n",
       ".xr-var-item > .xr-var-name:hover span {\n",
       "  padding-right: 5px;\n",
       "}\n",
       "\n",
       ".xr-var-list > li:nth-child(odd) > div,\n",
       ".xr-var-list > li:nth-child(odd) > label,\n",
       ".xr-var-list > li:nth-child(odd) > .xr-var-name span {\n",
       "  background-color: var(--xr-background-color-row-odd);\n",
       "}\n",
       "\n",
       ".xr-var-name {\n",
       "  grid-column: 1;\n",
       "}\n",
       "\n",
       ".xr-var-dims {\n",
       "  grid-column: 2;\n",
       "}\n",
       "\n",
       ".xr-var-dtype {\n",
       "  grid-column: 3;\n",
       "  text-align: right;\n",
       "  color: var(--xr-font-color2);\n",
       "}\n",
       "\n",
       ".xr-var-preview {\n",
       "  grid-column: 4;\n",
       "}\n",
       "\n",
       ".xr-var-name,\n",
       ".xr-var-dims,\n",
       ".xr-var-dtype,\n",
       ".xr-preview,\n",
       ".xr-attrs dt {\n",
       "  white-space: nowrap;\n",
       "  overflow: hidden;\n",
       "  text-overflow: ellipsis;\n",
       "  padding-right: 10px;\n",
       "}\n",
       "\n",
       ".xr-var-name:hover,\n",
       ".xr-var-dims:hover,\n",
       ".xr-var-dtype:hover,\n",
       ".xr-attrs dt:hover {\n",
       "  overflow: visible;\n",
       "  width: auto;\n",
       "  z-index: 1;\n",
       "}\n",
       "\n",
       ".xr-var-attrs,\n",
       ".xr-var-data {\n",
       "  display: none;\n",
       "  background-color: var(--xr-background-color) !important;\n",
       "  padding-bottom: 5px !important;\n",
       "}\n",
       "\n",
       ".xr-var-attrs-in:checked ~ .xr-var-attrs,\n",
       ".xr-var-data-in:checked ~ .xr-var-data {\n",
       "  display: block;\n",
       "}\n",
       "\n",
       ".xr-var-data > table {\n",
       "  float: right;\n",
       "}\n",
       "\n",
       ".xr-var-name span,\n",
       ".xr-var-data,\n",
       ".xr-attrs {\n",
       "  padding-left: 25px !important;\n",
       "}\n",
       "\n",
       ".xr-attrs,\n",
       ".xr-var-attrs,\n",
       ".xr-var-data {\n",
       "  grid-column: 1 / -1;\n",
       "}\n",
       "\n",
       "dl.xr-attrs {\n",
       "  padding: 0;\n",
       "  margin: 0;\n",
       "  display: grid;\n",
       "  grid-template-columns: 125px auto;\n",
       "}\n",
       "\n",
       ".xr-attrs dt,\n",
       ".xr-attrs dd {\n",
       "  padding: 0;\n",
       "  margin: 0;\n",
       "  float: left;\n",
       "  padding-right: 10px;\n",
       "  width: auto;\n",
       "}\n",
       "\n",
       ".xr-attrs dt {\n",
       "  font-weight: normal;\n",
       "  grid-column: 1;\n",
       "}\n",
       "\n",
       ".xr-attrs dt:hover span {\n",
       "  display: inline-block;\n",
       "  background: var(--xr-background-color);\n",
       "  padding-right: 10px;\n",
       "}\n",
       "\n",
       ".xr-attrs dd {\n",
       "  grid-column: 2;\n",
       "  white-space: pre-wrap;\n",
       "  word-break: break-all;\n",
       "}\n",
       "\n",
       ".xr-icon-database,\n",
       ".xr-icon-file-text2 {\n",
       "  display: inline-block;\n",
       "  vertical-align: middle;\n",
       "  width: 1em;\n",
       "  height: 1.5em !important;\n",
       "  stroke-width: 0;\n",
       "  stroke: currentColor;\n",
       "  fill: currentColor;\n",
       "}\n",
       "</style><pre class='xr-text-repr-fallback'>&lt;xarray.DataArray &#x27;propagation times for dA&#x27; (dates: 1)&gt;\n",
       "array([-2.12077923])\n",
       "Coordinates:\n",
       "  * dates    (dates) int64 0</pre><div class='xr-wrap' hidden><div class='xr-header'><div class='xr-obj-type'>xarray.DataArray</div><div class='xr-array-name'>'propagation times for dA'</div><ul class='xr-dim-list'><li><span class='xr-has-index'>dates</span>: 1</li></ul></div><ul class='xr-sections'><li class='xr-section-item'><div class='xr-array-wrap'><input id='section-06e73ec6-b2ab-44ac-b85e-98a001927334' class='xr-array-in' type='checkbox' checked><label for='section-06e73ec6-b2ab-44ac-b85e-98a001927334' title='Show/hide data repr'><svg class='icon xr-icon-database'><use xlink:href='#icon-database'></use></svg></label><div class='xr-array-preview xr-preview'><span>-2.121</span></div><div class='xr-array-data'><pre>array([-2.12077923])</pre></div></div></li><li class='xr-section-item'><input id='section-324b5180-36ad-4745-88dc-96c144504847' class='xr-section-summary-in' type='checkbox'  checked><label for='section-324b5180-36ad-4745-88dc-96c144504847' class='xr-section-summary' >Coordinates: <span>(1)</span></label><div class='xr-section-inline-details'></div><div class='xr-section-details'><ul class='xr-var-list'><li class='xr-var-item'><div class='xr-var-name'><span class='xr-has-index'>dates</span></div><div class='xr-var-dims'>(dates)</div><div class='xr-var-dtype'>int64</div><div class='xr-var-preview xr-preview'>0</div><input id='attrs-bfbd49b2-dfbb-4d9d-abec-e896ffff3e87' class='xr-var-attrs-in' type='checkbox' disabled><label for='attrs-bfbd49b2-dfbb-4d9d-abec-e896ffff3e87' title='Show/Hide attributes'><svg class='icon xr-icon-file-text2'><use xlink:href='#icon-file-text2'></use></svg></label><input id='data-af59e227-987e-4450-ab12-c41550e0e15d' class='xr-var-data-in' type='checkbox'><label for='data-af59e227-987e-4450-ab12-c41550e0e15d' title='Show/Hide data repr'><svg class='icon xr-icon-database'><use xlink:href='#icon-database'></use></svg></label><div class='xr-var-attrs'><dl class='xr-attrs'></dl></div><div class='xr-var-data'><pre>array([0])</pre></div></li></ul></div></li><li class='xr-section-item'><input id='section-48a7caa5-edca-4662-9236-1562ba96287b' class='xr-section-summary-in' type='checkbox' disabled ><label for='section-48a7caa5-edca-4662-9236-1562ba96287b' class='xr-section-summary'  title='Expand/collapse section'>Attributes: <span>(0)</span></label><div class='xr-section-inline-details'></div><div class='xr-section-details'><dl class='xr-attrs'></dl></div></li></ul></div></div>"
      ],
      "text/plain": [
       "<xarray.DataArray 'propagation times for dA' (dates: 1)>\n",
       "array([-2.12077923])\n",
       "Coordinates:\n",
       "  * dates    (dates) int64 0"
      ]
     },
     "execution_count": 32,
     "metadata": {},
     "output_type": "execute_result"
    }
   ],
   "source": [
    "dA"
   ]
  },
  {
   "cell_type": "code",
   "execution_count": null,
   "id": "9b3ea402-35f7-4c0d-959c-5c1988814b3b",
   "metadata": {},
   "outputs": [],
   "source": []
  }
 ],
 "metadata": {
  "kernelspec": {
   "display_name": "Python 3",
   "language": "python",
   "name": "python3"
  },
  "language_info": {
   "codemirror_mode": {
    "name": "ipython",
    "version": 3
   },
   "file_extension": ".py",
   "mimetype": "text/x-python",
   "name": "python",
   "nbconvert_exporter": "python",
   "pygments_lexer": "ipython3",
   "version": "3.7.10"
  }
 },
 "nbformat": 4,
 "nbformat_minor": 5
}
