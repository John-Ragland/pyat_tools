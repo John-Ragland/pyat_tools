{
 "cells": [
  {
   "cell_type": "markdown",
   "id": "34f7ada2-e4f9-4adc-b434-0f96acb6f647",
   "metadata": {},
   "source": [
    "# Testing\n",
    "Let's see if we can get at working on Linux"
   ]
  },
  {
   "cell_type": "code",
   "execution_count": 14,
   "id": "08bfe8e5-b41f-4ad8-b229-f6a76eee7d76",
   "metadata": {},
   "outputs": [],
   "source": [
    "import pyat_tools\n",
    "import pyat\n",
    "import os\n",
    "\n",
    "import xarray as xr\n",
    "from matplotlib import pyplot as plt"
   ]
  },
  {
   "cell_type": "code",
   "execution_count": 8,
   "id": "941e8a66-994c-432e-b7b4-48327e73583a",
   "metadata": {},
   "outputs": [],
   "source": [
    "# load SSP\n",
    "fn = 'ssp_test.nc'\n",
    "ssp = xr.load_dataarray(fn)\n",
    "ssp = pyat_tools.convert_SSP_arlpy(ssp,0)"
   ]
  },
  {
   "cell_type": "code",
   "execution_count": 9,
   "id": "b7935699-3ef0-45c1-acce-d012da3613e6",
   "metadata": {},
   "outputs": [],
   "source": [
    "# Write environment file\n",
    "fn = 'test'\n",
    "pyat_tools.build_env_file(\n",
    "    ssp,\n",
    "    'env_files/caldera_top_roughrock.txt',\n",
    "    'env_files/caldera_bottom_roughrock.txt', \n",
    "    f'{fn}.env'\n",
    ")"
   ]
  },
  {
   "cell_type": "code",
   "execution_count": 10,
   "id": "4fa95472-4aef-4d67-800c-27ffba0c6d3f",
   "metadata": {},
   "outputs": [
    {
     "name": "stdout",
     "output_type": "stream",
     "text": [
      "N:\t6000\n",
      "To:\t30 [s]\n",
      "Δf\t0.016666666666666666\n"
     ]
    }
   ],
   "source": [
    "# Build Frequency vector to accurate sample DTFT (so that x(t) can be reconstructed)\n",
    "Fs = 200\n",
    "To = 30\n",
    "\n",
    "t, freq_half, freq_full = pyat_tools.get_freq_time_vectors(Fs, To)"
   ]
  },
  {
   "cell_type": "code",
   "execution_count": 11,
   "id": "b26f920d-dd83-488f-981c-4178371c8a03",
   "metadata": {},
   "outputs": [
    {
     "name": "stdout",
     "output_type": "stream",
     "text": [
      "no .flp file\n"
     ]
    }
   ],
   "source": [
    "# Write field flp file\n",
    "s_depths=[1500] #meters\n",
    "ranges =  [3.186] #km\n",
    "r_depths = [1500] # meters\n",
    "\n",
    "pyat_tools.write_flp_file(s_depths, ranges, r_depths, fn)"
   ]
  },
  {
   "cell_type": "code",
   "execution_count": 12,
   "id": "63531fb6-8998-4963-a02d-2b3dee935df6",
   "metadata": {},
   "outputs": [],
   "source": [
    "p_f = pyat_tools.simulate_FDGF(fn, freq_half, [1,90], krakenc=False, verbose=True)"
   ]
  },
  {
   "cell_type": "code",
   "execution_count": 16,
   "id": "d2d5d8ef-d1e3-4a0c-b0f3-dc6c54e9cb2c",
   "metadata": {},
   "outputs": [
    {
     "data": {
      "text/plain": [
       "32512"
      ]
     },
     "execution_count": 16,
     "metadata": {},
     "output_type": "execute_result"
    }
   ],
   "source": [
    "os.system('kraken.exe test')"
   ]
  },
  {
   "cell_type": "code",
   "execution_count": null,
   "id": "41324791-37f9-4a24-9ad5-f166ce2b9ee0",
   "metadata": {},
   "outputs": [],
   "source": []
  }
 ],
 "metadata": {
  "kernelspec": {
   "display_name": "Python 3",
   "language": "python",
   "name": "python3"
  },
  "language_info": {
   "codemirror_mode": {
    "name": "ipython",
    "version": 3
   },
   "file_extension": ".py",
   "mimetype": "text/x-python",
   "name": "python",
   "nbconvert_exporter": "python",
   "pygments_lexer": "ipython3",
   "version": "3.9.7"
  }
 },
 "nbformat": 4,
 "nbformat_minor": 5
}
